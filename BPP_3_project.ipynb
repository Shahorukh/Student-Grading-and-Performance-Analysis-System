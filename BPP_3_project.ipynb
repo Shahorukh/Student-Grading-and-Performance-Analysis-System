{
  "nbformat": 4,
  "nbformat_minor": 0,
  "metadata": {
    "colab": {
      "provenance": [],
      "authorship_tag": "ABX9TyOWXnyX4LECSNK1q7awCY6P",
      "include_colab_link": true
    },
    "kernelspec": {
      "name": "python3",
      "display_name": "Python 3"
    },
    "language_info": {
      "name": "python"
    }
  },
  "cells": [
    {
      "cell_type": "markdown",
      "metadata": {
        "id": "view-in-github",
        "colab_type": "text"
      },
      "source": [
        "<a href=\"https://colab.research.google.com/github/Shahorukh/Student-Grading-and-Performance-Analysis-System/blob/main/BPP_3_project.ipynb\" target=\"_parent\"><img src=\"https://colab.research.google.com/assets/colab-badge.svg\" alt=\"Open In Colab\"/></a>"
      ]
    },
    {
      "cell_type": "markdown",
      "source": [
        "1. Data Initialization\n",
        "Create a CSV file to store initial student data with the following fields:\n",
        "Student ID, Name, Subjects (e.g., Math, English, Science), Marks, Grade.\n",
        "Store the data in Python data structures like lists or dictionaries for processing.\n",
        "\n"
      ],
      "metadata": {
        "id": "Co80A3mNMogP"
      }
    },
    {
      "cell_type": "code",
      "execution_count": 4,
      "metadata": {
        "id": "tWbmuphiInrO",
        "colab": {
          "base_uri": "https://localhost:8080/"
        },
        "outputId": "6e431a42-3e71-4670-c41b-2bfced899a27"
      },
      "outputs": [
        {
          "output_type": "stream",
          "name": "stdout",
          "text": [
            "['Student ID', 'Name', 'Subjects', 'Marks', 'Grade']\n",
            "['1', 'Sharukh', 'Math, English, Science', 'Math: 95, English: 88, Science: 92', '']\n",
            "['2', 'Minhaz', 'Math, English, Science', 'Math: 78, English: 85, Science: 80', '']\n",
            "['3', 'Habib', 'Math, English, Science', 'Math: 65, English: 70, Science: 72', '']\n",
            "['4', 'Foysal', 'Math,English,Science', 'Math:75,  English:80,  Science:85', '']\n"
          ]
        }
      ],
      "source": [
        "import csv\n",
        "data = list()\n",
        "with open(\"/content/student_data.csv\", mode =\"r\")as file:\n",
        "  csvFile = csv.reader(file)\n",
        "  for lines in csvFile:\n",
        "    data.append(lines)\n",
        "    print(lines)"
      ]
    },
    {
      "cell_type": "markdown",
      "source": [],
      "metadata": {
        "id": "CTAAYOzCMlBf"
      }
    },
    {
      "cell_type": "markdown",
      "source": [
        "2. Student Record Management\n",
        "Allow the user to:\n",
        "Add new students with marks for each subject.\n"
      ],
      "metadata": {
        "id": "5qxgN0WMOsVI"
      }
    },
    {
      "cell_type": "code",
      "source": [
        "print(data)"
      ],
      "metadata": {
        "colab": {
          "base_uri": "https://localhost:8080/"
        },
        "id": "tHFpWKbRO2Tu",
        "outputId": "7ee2d958-37e7-4f2d-bbb2-bd2624f08126"
      },
      "execution_count": 5,
      "outputs": [
        {
          "output_type": "stream",
          "name": "stdout",
          "text": [
            "[['Student ID', 'Name', 'Subjects', 'Marks', 'Grade'], ['1', 'Sharukh', 'Math, English, Science', 'Math: 95, English: 88, Science: 92', ''], ['2', 'Minhaz', 'Math, English, Science', 'Math: 78, English: 85, Science: 80', ''], ['3', 'Habib', 'Math, English, Science', 'Math: 65, English: 70, Science: 72', ''], ['4', 'Foysal', 'Math,English,Science', 'Math:75,  English:80,  Science:85', '']]\n"
          ]
        }
      ]
    },
    {
      "cell_type": "code",
      "source": [
        "# Add a new student\n",
        "data.append(['5','Shimum','Math,English,Science','Math:88,English:77,Science:66',''])"
      ],
      "metadata": {
        "id": "WgURYRYoO7w8"
      },
      "execution_count": 7,
      "outputs": []
    },
    {
      "cell_type": "code",
      "source": [
        "print(data)"
      ],
      "metadata": {
        "colab": {
          "base_uri": "https://localhost:8080/"
        },
        "id": "WSTWNw26Rpld",
        "outputId": "1537fc90-7286-4ce3-dbff-d546ff68da66"
      },
      "execution_count": 8,
      "outputs": [
        {
          "output_type": "stream",
          "name": "stdout",
          "text": [
            "[['Student ID', 'Name', 'Subjects', 'Marks', 'Grade'], ['1', 'Sharukh', 'Math, English, Science', 'Math: 95, English: 88, Science: 92', ''], ['2', 'Minhaz', 'Math, English, Science', 'Math: 78, English: 85, Science: 80', ''], ['3', 'Habib', 'Math, English, Science', 'Math: 65, English: 70, Science: 72', ''], ['4', 'Foysal', 'Math,English,Science', 'Math:75,  English:80,  Science:85', ''], ['5', 'Shimum', 'Math,English,Science', 'Math:88,English:77,Science:66', '']]\n"
          ]
        }
      ]
    },
    {
      "cell_type": "code",
      "source": [],
      "metadata": {
        "id": "uDc0efpxR61r"
      },
      "execution_count": null,
      "outputs": []
    }
  ]
}