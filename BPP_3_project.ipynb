{
  "nbformat": 4,
  "nbformat_minor": 0,
  "metadata": {
    "colab": {
      "provenance": [],
      "authorship_tag": "ABX9TyMvH3yUFe0DwJYne1vTw+Bx",
      "include_colab_link": true
    },
    "kernelspec": {
      "name": "python3",
      "display_name": "Python 3"
    },
    "language_info": {
      "name": "python"
    }
  },
  "cells": [
    {
      "cell_type": "markdown",
      "metadata": {
        "id": "view-in-github",
        "colab_type": "text"
      },
      "source": [
        "<a href=\"https://colab.research.google.com/github/Shahorukh/Student-Grading-and-Performance-Analysis-System/blob/main/BPP_3_project.ipynb\" target=\"_parent\"><img src=\"https://colab.research.google.com/assets/colab-badge.svg\" alt=\"Open In Colab\"/></a>"
      ]
    },
    {
      "cell_type": "code",
      "execution_count": 29,
      "metadata": {
        "id": "tWbmuphiInrO"
      },
      "outputs": [],
      "source": [
        "import csv\n",
        "\n",
        "# Define the initial student data\n",
        "initial_data = [\n",
        "    {\"Student ID\": 1, \"Name\": \"Sharukh\", \"Subjects\": {\"Math\": 95, \"English\": 88, \"Science\": 92}, \"Grade\": None},\n",
        "    {\"Student ID\": 2, \"Name\": \"Khan\", \"Subjects\": {\"Math\": 78, \"English\": 85, \"Science\": 80}, \"Grade\": None},\n",
        "    {\"Student ID\": 3, \"Name\": \"Safa\", \"Subjects\": {\"Math\": 65, \"English\": 70, \"Science\": 72}, \"Grade\": None},\n",
        "]"
      ]
    },
    {
      "cell_type": "code",
      "source": [
        "# Create a CSV file with initial data\n",
        "def initialize_csv_file(filename):\n",
        "    with open(filename, mode='w', newline='') as file:\n",
        "        writer = csv.writer(file)\n",
        "        # Write the header\n",
        "        writer.writerow([\"Student ID\", \"Name\", \"Subjects\", \"Marks\", \"Grade\"])\n",
        "        # Write the data\n",
        "        for student in initial_data:\n",
        "            subjects = student[\"Subjects\"]\n",
        "            marks = \", \".join([f\"{subj}: {marks}\" for subj, marks in subjects.items()])\n",
        "            writer.writerow([student[\"Student ID\"], student[\"Name\"], \", \".join(subjects.keys()), marks, student[\"Grade\"]])\n",
        "\n",
        "# Load data from CSV into Python data structures\n",
        "def load_data_from_csv(filename):\n",
        "    data = []\n",
        "    with open(filename, mode='r') as file:\n",
        "        reader = csv.DictReader(file)\n",
        "        for row in reader:\n",
        "            subjects = dict(\n",
        "                [tuple(subject.split(\": \")) for subject in row[\"Marks\"].split(\", \")]\n",
        "            )\n",
        "            data.append({\n",
        "                \"Student ID\": int(row[\"Student ID\"]),\n",
        "                \"Name\": row[\"Name\"],\n",
        "                \"Subjects\": {k: int(v) for k, v in subjects.items()},\n",
        "                \"Grade\": row[\"Grade\"],\n",
        "            })\n",
        "    return data"
      ],
      "metadata": {
        "id": "Q-tSdvj5z7lz"
      },
      "execution_count": 30,
      "outputs": []
    },
    {
      "cell_type": "code",
      "source": [
        "# Add a new student\n",
        "def add_student(data, student_id, name, subjects):\n",
        "    data.append({\"Student ID\": student_id, \"Name\": name, \"Subjects\": subjects, \"Grade\": None})"
      ],
      "metadata": {
        "id": "BFxgPXaMU7By"
      },
      "execution_count": 31,
      "outputs": []
    },
    {
      "cell_type": "code",
      "source": [
        "# Update an existing student's details\n",
        "def update_student(data, student_id, updated_name=None, updated_subjects=None):\n",
        "    for student in data:\n",
        "        if student[\"Student ID\"] == student_id:\n",
        "            if updated_name:\n",
        "                student[\"Name\"] = updated_name\n",
        "            if updated_subjects:\n",
        "                student[\"Subjects\"].update(updated_subjects)\n",
        "            return True\n",
        "    return False"
      ],
      "metadata": {
        "id": "JlGoY00rVHEL"
      },
      "execution_count": 32,
      "outputs": []
    },
    {
      "cell_type": "code",
      "source": [
        "# Remove a student record by ID\n",
        "def remove_student(data, student_id):\n",
        "    for i, student in enumerate(data):\n",
        "        if student[\"Student ID\"] == student_id:\n",
        "            del data[i]\n",
        "            return True\n",
        "    return False"
      ],
      "metadata": {
        "id": "iizmqGkSVKsd"
      },
      "execution_count": 33,
      "outputs": []
    },
    {
      "cell_type": "code",
      "source": [
        "# Calculate grade based on marks\n",
        "def calculate_grade(average_marks):\n",
        "    if 90 <= average_marks <= 100:\n",
        "        return \"A\"\n",
        "    elif 80 <= average_marks < 90:\n",
        "        return \"B\"\n",
        "    elif 70 <= average_marks < 80:\n",
        "        return \"C\"\n",
        "    else:\n",
        "        return \"F\"\n"
      ],
      "metadata": {
        "id": "M-ifA-pLVRBi"
      },
      "execution_count": 34,
      "outputs": []
    },
    {
      "cell_type": "code",
      "source": [
        "# Assign grades to all students\n",
        "def assign_grades(data):\n",
        "    for student in data:\n",
        "        subjects = student[\"Subjects\"]\n",
        "        average_marks = sum(subjects.values()) / len(subjects)\n",
        "        student[\"Grade\"] = calculate_grade(average_marks)"
      ],
      "metadata": {
        "id": "LvnY8HRBVUyY"
      },
      "execution_count": 35,
      "outputs": []
    },
    {
      "cell_type": "code",
      "source": [
        "# Search for a student by ID or name\n",
        "def search_student(data, student_id=None, name=None):\n",
        "    results = []\n",
        "    for student in data:\n",
        "        if (student_id is not None and student[\"Student ID\"] == student_id) or \\\n",
        "           (name is not None and student[\"Name\"].lower() == name.lower()):\n",
        "            results.append(student)\n",
        "    return results"
      ],
      "metadata": {
        "id": "gTi9Bpj7VYxI"
      },
      "execution_count": 36,
      "outputs": []
    },
    {
      "cell_type": "code",
      "source": [
        "# Filter students by grade\n",
        "def filter_students_by_grade(data, grade):\n",
        "    return [student for student in data if student[\"Grade\"] == grade]\n"
      ],
      "metadata": {
        "id": "qvWtxLmVVb_e"
      },
      "execution_count": 37,
      "outputs": []
    },
    {
      "cell_type": "code",
      "source": [
        "# Show students who failed in any subject\n",
        "def students_failed_any_subject(data):\n",
        "    failed_students = []\n",
        "    for student in data:\n",
        "        if any(marks < 70 for marks in student[\"Subjects\"].values()):\n",
        "            failed_students.append(student)\n",
        "    return failed_students\n"
      ],
      "metadata": {
        "id": "gpoNOauIVhx7"
      },
      "execution_count": 38,
      "outputs": []
    },
    {
      "cell_type": "code",
      "source": [
        "# Class performance summary\n",
        "def class_performance_summary(data):\n",
        "    total_students = len(data)\n",
        "    total_marks = sum(sum(student[\"Subjects\"].values()) for student in data)\n",
        "    total_subjects = sum(len(student[\"Subjects\"]) for student in data)\n",
        "    average_marks = total_marks / total_subjects\n",
        "\n",
        "    top_scorer = max(data, key=lambda x: sum(x[\"Subjects\"].values()))\n",
        "    low_scorer = min(data, key=lambda x: sum(x[\"Subjects\"].values()))\n",
        "\n",
        "    pass_count = sum(1 for student in data if all(marks >= 70 for marks in student[\"Subjects\"].values()))\n",
        "    pass_percentage = (pass_count / total_students) * 100\n",
        "\n",
        "    return {\n",
        "        \"Average Marks\": average_marks,\n",
        "        \"Top Scorer\": top_scorer,\n",
        "        \"Low Scorer\": low_scorer,\n",
        "        \"Pass Percentage\": pass_percentage\n",
        "    }"
      ],
      "metadata": {
        "id": "M9Q_boJWVlxi"
      },
      "execution_count": 39,
      "outputs": []
    },
    {
      "cell_type": "code",
      "source": [
        "# Initialize and load the data\n",
        "csv_filename = \"student_data.csv\"\n",
        "initialize_csv_file(csv_filename)\n",
        "students = load_data_from_csv(csv_filename)\n",
        "\n",
        "# Assign grades to students\n",
        "assign_grades(students)"
      ],
      "metadata": {
        "id": "KDdm__NkVuLk"
      },
      "execution_count": 40,
      "outputs": []
    },
    {
      "cell_type": "code",
      "source": [],
      "metadata": {
        "id": "l2hF8Hw3VzDd"
      },
      "execution_count": 40,
      "outputs": []
    },
    {
      "cell_type": "code",
      "source": [
        "# Example menu-driven interaction\n",
        "def menu():\n",
        "    while True:\n",
        "        print(\"\\nMenu:\")\n",
        "        print(\"1. Add Student\")\n",
        "        print(\"2. Update Student\")\n",
        "        print(\"3. Remove Student\")\n",
        "        print(\"4. View Class Performance Summary\")\n",
        "        print(\"5. Search Student\")\n",
        "        print(\"6. Filter Students by Grade\")\n",
        "        print(\"7. Show Students Who Failed Any Subject\")\n",
        "        print(\"8. Exit\")\n",
        "\n",
        "        choice = input(\"Enter your choice: \")\n",
        "\n",
        "        if choice == \"1\":\n",
        "            student_id = int(input(\"Enter Student ID: \"))\n",
        "            name = input(\"Enter Name: \")\n",
        "            subjects = {}\n",
        "            for subject in [\"Math\", \"English\", \"Science\"]:\n",
        "                marks = int(input(f\"Enter marks for {subject}: \"))\n",
        "                subjects[subject] = marks\n",
        "            add_student(students, student_id, name, subjects)\n",
        "            assign_grades(students)\n",
        "        elif choice == \"2\":\n",
        "            student_id = int(input(\"Enter Student ID to update: \"))\n",
        "            updated_name = input(\"Enter new name (leave blank to skip): \")\n",
        "            updated_subjects = {}\n",
        "            for subject in [\"Math\", \"English\", \"Science\"]:\n",
        "                marks = input(f\"Enter new marks for {subject} (leave blank to skip): \")\n",
        "                if marks:\n",
        "                    updated_subjects[subject] = int(marks)\n",
        "            update_student(students, student_id, updated_name or None, updated_subjects or None)\n",
        "            assign_grades(students)\n",
        "        elif choice == \"3\":\n",
        "            student_id = int(input(\"Enter Student ID to remove: \"))\n",
        "            remove_student(students, student_id)\n",
        "        elif choice == \"4\":\n",
        "            summary = class_performance_summary(students)\n",
        "            print(\"Class Performance Summary:\")\n",
        "            print(summary)\n",
        "        elif choice == \"5\":\n",
        "            search_option = input(\"Search by (1) ID or (2) Name? \")\n",
        "            if search_option == \"1\":\n",
        "                student_id = int(input(\"Enter Student ID: \"))\n",
        "                print(search_student(students, student_id=student_id))\n",
        "            elif search_option == \"2\":\n",
        "                name = input(\"Enter Student Name: \")\n",
        "                print(search_student(students, name=name))\n",
        "        elif choice == \"6\":\n",
        "            grade = input(\"Enter grade to filter (A/B/C/F): \")\n",
        "            print(filter_students_by_grade(students, grade))\n",
        "        elif choice == \"7\":\n",
        "            print(\"Students who failed in any subject:\")\n",
        "            print(students_failed_any_subject(students))\n",
        "        elif choice == \"8\":\n",
        "            print(\"Exiting program.\")\n",
        "            break\n",
        "        else:\n",
        "            print(\"Invalid choice. Please try again.\")"
      ],
      "metadata": {
        "id": "078rgFM_T6Tp"
      },
      "execution_count": 41,
      "outputs": []
    },
    {
      "cell_type": "code",
      "source": [
        "check_project=menu()"
      ],
      "metadata": {
        "colab": {
          "base_uri": "https://localhost:8080/"
        },
        "id": "wBdOzFTHV3L-",
        "outputId": "05eaac44-fde8-4a7e-df36-a67895e103d6"
      },
      "execution_count": 43,
      "outputs": [
        {
          "output_type": "stream",
          "name": "stdout",
          "text": [
            "\n",
            "Menu:\n",
            "1. Add Student\n",
            "2. Update Student\n",
            "3. Remove Student\n",
            "4. View Class Performance Summary\n",
            "5. Search Student\n",
            "6. Filter Students by Grade\n",
            "7. Show Students Who Failed Any Subject\n",
            "8. Exit\n",
            "Enter your choice: 1\n",
            "Enter Student ID: 4\n",
            "Enter Name: Shakil\n",
            "Enter marks for Math: 60\n",
            "Enter marks for English: 70\n",
            "Enter marks for Science: 75\n",
            "\n",
            "Menu:\n",
            "1. Add Student\n",
            "2. Update Student\n",
            "3. Remove Student\n",
            "4. View Class Performance Summary\n",
            "5. Search Student\n",
            "6. Filter Students by Grade\n",
            "7. Show Students Who Failed Any Subject\n",
            "8. Exit\n",
            "Enter your choice: 1\n",
            "Enter Student ID: 5\n",
            "Enter Name: Safayet\n",
            "Enter marks for Math: 95\n",
            "Enter marks for English: 98\n",
            "Enter marks for Science: 97\n",
            "\n",
            "Menu:\n",
            "1. Add Student\n",
            "2. Update Student\n",
            "3. Remove Student\n",
            "4. View Class Performance Summary\n",
            "5. Search Student\n",
            "6. Filter Students by Grade\n",
            "7. Show Students Who Failed Any Subject\n",
            "8. Exit\n",
            "Enter your choice: 2\n",
            "Enter Student ID to update: 1\n",
            "Enter new name (leave blank to skip): Shahorukh\n",
            "Enter new marks for Math (leave blank to skip): 100\n",
            "Enter new marks for English (leave blank to skip): 90\n",
            "Enter new marks for Science (leave blank to skip): 80\n",
            "\n",
            "Menu:\n",
            "1. Add Student\n",
            "2. Update Student\n",
            "3. Remove Student\n",
            "4. View Class Performance Summary\n",
            "5. Search Student\n",
            "6. Filter Students by Grade\n",
            "7. Show Students Who Failed Any Subject\n",
            "8. Exit\n",
            "Enter your choice: 3\n",
            "Enter Student ID to remove: 4\n",
            "\n",
            "Menu:\n",
            "1. Add Student\n",
            "2. Update Student\n",
            "3. Remove Student\n",
            "4. View Class Performance Summary\n",
            "5. Search Student\n",
            "6. Filter Students by Grade\n",
            "7. Show Students Who Failed Any Subject\n",
            "8. Exit\n",
            "Enter your choice: 4\n",
            "Class Performance Summary:\n",
            "{'Average Marks': 84.16666666666667, 'Top Scorer': {'Student ID': 5, 'Name': 'Safayet', 'Subjects': {'Math': 95, 'English': 98, 'Science': 97}, 'Grade': 'A'}, 'Low Scorer': {'Student ID': 3, 'Name': 'Safa', 'Subjects': {'Math': 65, 'English': 70, 'Science': 72}, 'Grade': 'F'}, 'Pass Percentage': 75.0}\n",
            "\n",
            "Menu:\n",
            "1. Add Student\n",
            "2. Update Student\n",
            "3. Remove Student\n",
            "4. View Class Performance Summary\n",
            "5. Search Student\n",
            "6. Filter Students by Grade\n",
            "7. Show Students Who Failed Any Subject\n",
            "8. Exit\n",
            "Enter your choice: 5\n",
            "Search by (1) ID or (2) Name? 1\n",
            "Enter Student ID: 5\n",
            "[{'Student ID': 5, 'Name': 'Safayet', 'Subjects': {'Math': 95, 'English': 98, 'Science': 97}, 'Grade': 'A'}]\n",
            "\n",
            "Menu:\n",
            "1. Add Student\n",
            "2. Update Student\n",
            "3. Remove Student\n",
            "4. View Class Performance Summary\n",
            "5. Search Student\n",
            "6. Filter Students by Grade\n",
            "7. Show Students Who Failed Any Subject\n",
            "8. Exit\n",
            "Enter your choice: 5\n",
            "Search by (1) ID or (2) Name? 2\n",
            "Enter Student Name: Shahorukh\n",
            "[{'Student ID': 1, 'Name': 'Shahorukh', 'Subjects': {'Math': 100, 'English': 90, 'Science': 80}, 'Grade': 'A'}]\n",
            "\n",
            "Menu:\n",
            "1. Add Student\n",
            "2. Update Student\n",
            "3. Remove Student\n",
            "4. View Class Performance Summary\n",
            "5. Search Student\n",
            "6. Filter Students by Grade\n",
            "7. Show Students Who Failed Any Subject\n",
            "8. Exit\n",
            "Enter your choice: 6\n",
            "Enter grade to filter (A/B/C/F): F\n",
            "[{'Student ID': 3, 'Name': 'Safa', 'Subjects': {'Math': 65, 'English': 70, 'Science': 72}, 'Grade': 'F'}]\n",
            "\n",
            "Menu:\n",
            "1. Add Student\n",
            "2. Update Student\n",
            "3. Remove Student\n",
            "4. View Class Performance Summary\n",
            "5. Search Student\n",
            "6. Filter Students by Grade\n",
            "7. Show Students Who Failed Any Subject\n",
            "8. Exit\n",
            "Enter your choice: 6\n",
            "Enter grade to filter (A/B/C/F): C\n",
            "[]\n",
            "\n",
            "Menu:\n",
            "1. Add Student\n",
            "2. Update Student\n",
            "3. Remove Student\n",
            "4. View Class Performance Summary\n",
            "5. Search Student\n",
            "6. Filter Students by Grade\n",
            "7. Show Students Who Failed Any Subject\n",
            "8. Exit\n",
            "Enter your choice: 6\n",
            "Enter grade to filter (A/B/C/F): B\n",
            "[{'Student ID': 2, 'Name': 'Khan', 'Subjects': {'Math': 78, 'English': 85, 'Science': 80}, 'Grade': 'B'}]\n",
            "\n",
            "Menu:\n",
            "1. Add Student\n",
            "2. Update Student\n",
            "3. Remove Student\n",
            "4. View Class Performance Summary\n",
            "5. Search Student\n",
            "6. Filter Students by Grade\n",
            "7. Show Students Who Failed Any Subject\n",
            "8. Exit\n",
            "Enter your choice: 6\n",
            "Enter grade to filter (A/B/C/F): A\n",
            "[{'Student ID': 1, 'Name': 'Shahorukh', 'Subjects': {'Math': 100, 'English': 90, 'Science': 80}, 'Grade': 'A'}, {'Student ID': 5, 'Name': 'Safayet', 'Subjects': {'Math': 95, 'English': 98, 'Science': 97}, 'Grade': 'A'}]\n",
            "\n",
            "Menu:\n",
            "1. Add Student\n",
            "2. Update Student\n",
            "3. Remove Student\n",
            "4. View Class Performance Summary\n",
            "5. Search Student\n",
            "6. Filter Students by Grade\n",
            "7. Show Students Who Failed Any Subject\n",
            "8. Exit\n",
            "Enter your choice: 7\n",
            "Students who failed in any subject:\n",
            "[{'Student ID': 3, 'Name': 'Safa', 'Subjects': {'Math': 65, 'English': 70, 'Science': 72}, 'Grade': 'F'}]\n",
            "\n",
            "Menu:\n",
            "1. Add Student\n",
            "2. Update Student\n",
            "3. Remove Student\n",
            "4. View Class Performance Summary\n",
            "5. Search Student\n",
            "6. Filter Students by Grade\n",
            "7. Show Students Who Failed Any Subject\n",
            "8. Exit\n",
            "Enter your choice: 8\n",
            "Exiting program.\n"
          ]
        }
      ]
    },
    {
      "cell_type": "code",
      "source": [],
      "metadata": {
        "id": "EEQG27hqV67M"
      },
      "execution_count": null,
      "outputs": []
    }
  ]
}