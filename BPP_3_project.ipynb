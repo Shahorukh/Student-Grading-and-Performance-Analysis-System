{
  "nbformat": 4,
  "nbformat_minor": 0,
  "metadata": {
    "colab": {
      "provenance": [],
      "authorship_tag": "ABX9TyPFt50tJkOeiMku6eh65a1+",
      "include_colab_link": true
    },
    "kernelspec": {
      "name": "python3",
      "display_name": "Python 3"
    },
    "language_info": {
      "name": "python"
    }
  },
  "cells": [
    {
      "cell_type": "markdown",
      "metadata": {
        "id": "view-in-github",
        "colab_type": "text"
      },
      "source": [
        "<a href=\"https://colab.research.google.com/github/Shahorukh/Student-Grading-and-Performance-Analysis-System/blob/main/BPP_3_project.ipynb\" target=\"_parent\"><img src=\"https://colab.research.google.com/assets/colab-badge.svg\" alt=\"Open In Colab\"/></a>"
      ]
    },
    {
      "cell_type": "markdown",
      "source": [
        "1. Data Initialization\n",
        "Create a CSV file to store initial student data with the following fields:\n",
        "Student ID, Name, Subjects (e.g., Math, English, Science), Marks, Grade.\n",
        "Store the data in Python data structures like lists or dictionaries for processing.\n",
        "\n"
      ],
      "metadata": {
        "id": "Co80A3mNMogP"
      }
    },
    {
      "cell_type": "code",
      "execution_count": 4,
      "metadata": {
        "id": "tWbmuphiInrO",
        "colab": {
          "base_uri": "https://localhost:8080/"
        },
        "outputId": "6e431a42-3e71-4670-c41b-2bfced899a27"
      },
      "outputs": [
        {
          "output_type": "stream",
          "name": "stdout",
          "text": [
            "['Student ID', 'Name', 'Subjects', 'Marks', 'Grade']\n",
            "['1', 'Sharukh', 'Math, English, Science', 'Math: 95, English: 88, Science: 92', '']\n",
            "['2', 'Minhaz', 'Math, English, Science', 'Math: 78, English: 85, Science: 80', '']\n",
            "['3', 'Habib', 'Math, English, Science', 'Math: 65, English: 70, Science: 72', '']\n",
            "['4', 'Foysal', 'Math,English,Science', 'Math:75,  English:80,  Science:85', '']\n"
          ]
        }
      ],
      "source": [
        "import csv\n",
        "data = list()\n",
        "with open(\"/content/student_data.csv\", mode =\"r\")as file:\n",
        "  csvFile = csv.reader(file)\n",
        "  for lines in csvFile:\n",
        "    data.append(lines)\n",
        "    print(lines)"
      ]
    },
    {
      "cell_type": "markdown",
      "source": [],
      "metadata": {
        "id": "CTAAYOzCMlBf"
      }
    },
    {
      "cell_type": "markdown",
      "source": [
        "# New section"
      ],
      "metadata": {
        "id": "0u0GTgqRJRnd"
      }
    }
  ]
}